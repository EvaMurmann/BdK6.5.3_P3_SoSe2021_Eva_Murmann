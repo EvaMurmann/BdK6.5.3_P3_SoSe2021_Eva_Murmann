{
 "cells": [
  {
   "cell_type": "code",
   "execution_count": 168,
   "metadata": {},
   "outputs": [],
   "source": [
    "import urllib.request\n",
    "import json"
   ]
  },
  {
   "cell_type": "code",
   "execution_count": 169,
   "metadata": {},
   "outputs": [],
   "source": [
    "base_url = \"https://eutils.ncbi.nlm.nih.gov/entrez/eutils/esummary.fcgi?db=pubmed&retmode=json&id=\"\n",
    "doi = \"27708327\"\n",
    "full_url = base_url + doi"
   ]
  },
  {
   "cell_type": "code",
   "execution_count": 170,
   "metadata": {},
   "outputs": [],
   "source": [
    "doi_json_data = urllib.request.urlopen(full_url).read()"
   ]
  },
  {
   "cell_type": "code",
   "execution_count": 171,
   "metadata": {},
   "outputs": [
    {
     "name": "stdout",
     "output_type": "stream",
     "text": [
      "b'{\"header\":{\"type\":\"esummary\",\"version\":\"0.3\"},\"result\":{\"uids\":[\"27708327\"],\"27708327\":{\"uid\":\"27708327\",\"pubdate\":\"2016 Oct 6\",\"epubdate\":\"\",\"source\":\"Nature\",\"authors\":[{\"name\":\"Perkel J\",\"authtype\":\"Author\",\"clusterid\":\"\"}],\"lastauthor\":\"Perkel J\",\"title\":\"Democratic databases: science on GitHub.\",\"sorttitle\":\"democratic databases science on github\",\"volume\":\"538\",\"issue\":\"7623\",\"pages\":\"127-128\",\"lang\":[\"eng\"],\"nlmuniqueid\":\"0410462\",\"issn\":\"0028-0836\",\"essn\":\"1476-4687\",\"pubtype\":[\"Journal Article\"],\"recordstatus\":\"PubMed - indexed for MEDLINE\",\"pubstatus\":\"4\",\"articleids\":[{\"idtype\":\"pubmed\",\"idtypen\":1,\"value\":\"27708327\"},{\"idtype\":\"pii\",\"idtypen\":4,\"value\":\"538127a\"},{\"idtype\":\"doi\",\"idtypen\":3,\"value\":\"10.1038/538127a\"},{\"idtype\":\"rid\",\"idtypen\":8,\"value\":\"27708327\"},{\"idtype\":\"eid\",\"idtypen\":8,\"value\":\"27708327\"}],\"history\":[{\"pubstatus\":\"entrez\",\"date\":\"2016/10/07 06:00\"},{\"pubstatus\":\"pubmed\",\"date\":\"2016/10/07 06:00\"},{\"pubstatus\":\"medline\",\"date\":\"2016/11/03 06:00\"}],\"references\":[{\"refsource\":\"Nature. 2016 Oct 31;539(7627):126\",\"reftype\":\"Erratum in\",\"pmid\":27808210,\"note\":\"\"}],\"attributes\":[],\"pmcrefcount\":11,\"fulljournalname\":\"Nature\",\"elocationid\":\"doi: 10.1038/538127a\",\"doctype\":\"citation\",\"srccontriblist\":[],\"booktitle\":\"\",\"medium\":\"\",\"edition\":\"\",\"publisherlocation\":\"\",\"publishername\":\"\",\"srcdate\":\"\",\"reportnumber\":\"\",\"availablefromurl\":\"\",\"locationlabel\":\"\",\"doccontriblist\":[],\"docdate\":\"\",\"bookname\":\"\",\"chapter\":\"\",\"sortpubdate\":\"2016/10/06 00:00\",\"sortfirstauthor\":\"Perkel J\",\"vernaculartitle\":\"\"}}}\\n'\n"
     ]
    }
   ],
   "source": [
    "print(doi_json_data)"
   ]
  },
  {
   "cell_type": "code",
   "execution_count": 172,
   "metadata": {},
   "outputs": [
    {
     "data": {
      "text/plain": [
       "bytes"
      ]
     },
     "execution_count": 172,
     "metadata": {},
     "output_type": "execute_result"
    }
   ],
   "source": [
    "type(doi_json_data)"
   ]
  },
  {
   "cell_type": "code",
   "execution_count": 173,
   "metadata": {},
   "outputs": [],
   "source": [
    "doi_data = json.loads(doi_json_data)"
   ]
  },
  {
   "cell_type": "code",
   "execution_count": 174,
   "metadata": {},
   "outputs": [
    {
     "data": {
      "text/plain": [
       "dict"
      ]
     },
     "execution_count": 174,
     "metadata": {},
     "output_type": "execute_result"
    }
   ],
   "source": [
    "type(doi_data)"
   ]
  },
  {
   "cell_type": "code",
   "execution_count": 175,
   "metadata": {},
   "outputs": [
    {
     "name": "stdout",
     "output_type": "stream",
     "text": [
      "{'header': {'type': 'esummary', 'version': '0.3'}, 'result': {'uids': ['27708327'], '27708327': {'uid': '27708327', 'pubdate': '2016 Oct 6', 'epubdate': '', 'source': 'Nature', 'authors': [{'name': 'Perkel J', 'authtype': 'Author', 'clusterid': ''}], 'lastauthor': 'Perkel J', 'title': 'Democratic databases: science on GitHub.', 'sorttitle': 'democratic databases science on github', 'volume': '538', 'issue': '7623', 'pages': '127-128', 'lang': ['eng'], 'nlmuniqueid': '0410462', 'issn': '0028-0836', 'essn': '1476-4687', 'pubtype': ['Journal Article'], 'recordstatus': 'PubMed - indexed for MEDLINE', 'pubstatus': '4', 'articleids': [{'idtype': 'pubmed', 'idtypen': 1, 'value': '27708327'}, {'idtype': 'pii', 'idtypen': 4, 'value': '538127a'}, {'idtype': 'doi', 'idtypen': 3, 'value': '10.1038/538127a'}, {'idtype': 'rid', 'idtypen': 8, 'value': '27708327'}, {'idtype': 'eid', 'idtypen': 8, 'value': '27708327'}], 'history': [{'pubstatus': 'entrez', 'date': '2016/10/07 06:00'}, {'pubstatus': 'pubmed', 'date': '2016/10/07 06:00'}, {'pubstatus': 'medline', 'date': '2016/11/03 06:00'}], 'references': [{'refsource': 'Nature. 2016 Oct 31;539(7627):126', 'reftype': 'Erratum in', 'pmid': 27808210, 'note': ''}], 'attributes': [], 'pmcrefcount': 11, 'fulljournalname': 'Nature', 'elocationid': 'doi: 10.1038/538127a', 'doctype': 'citation', 'srccontriblist': [], 'booktitle': '', 'medium': '', 'edition': '', 'publisherlocation': '', 'publishername': '', 'srcdate': '', 'reportnumber': '', 'availablefromurl': '', 'locationlabel': '', 'doccontriblist': [], 'docdate': '', 'bookname': '', 'chapter': '', 'sortpubdate': '2016/10/06 00:00', 'sortfirstauthor': 'Perkel J', 'vernaculartitle': ''}}}\n"
     ]
    }
   ],
   "source": [
    "print(doi_data)"
   ]
  },
  {
   "cell_type": "code",
   "execution_count": 176,
   "metadata": {},
   "outputs": [
    {
     "data": {
      "text/plain": [
       "dict_keys(['header', 'result'])"
      ]
     },
     "execution_count": 176,
     "metadata": {},
     "output_type": "execute_result"
    }
   ],
   "source": [
    "doi_data.keys()"
   ]
  },
  {
   "cell_type": "code",
   "execution_count": 177,
   "metadata": {},
   "outputs": [
    {
     "data": {
      "text/plain": [
       "{'type': 'esummary', 'version': '0.3'}"
      ]
     },
     "execution_count": 177,
     "metadata": {},
     "output_type": "execute_result"
    }
   ],
   "source": [
    "doi_data[\"header\"]"
   ]
  },
  {
   "cell_type": "code",
   "execution_count": 178,
   "metadata": {},
   "outputs": [
    {
     "data": {
      "text/plain": [
       "{'uids': ['27708327'],\n",
       " '27708327': {'uid': '27708327',\n",
       "  'pubdate': '2016 Oct 6',\n",
       "  'epubdate': '',\n",
       "  'source': 'Nature',\n",
       "  'authors': [{'name': 'Perkel J', 'authtype': 'Author', 'clusterid': ''}],\n",
       "  'lastauthor': 'Perkel J',\n",
       "  'title': 'Democratic databases: science on GitHub.',\n",
       "  'sorttitle': 'democratic databases science on github',\n",
       "  'volume': '538',\n",
       "  'issue': '7623',\n",
       "  'pages': '127-128',\n",
       "  'lang': ['eng'],\n",
       "  'nlmuniqueid': '0410462',\n",
       "  'issn': '0028-0836',\n",
       "  'essn': '1476-4687',\n",
       "  'pubtype': ['Journal Article'],\n",
       "  'recordstatus': 'PubMed - indexed for MEDLINE',\n",
       "  'pubstatus': '4',\n",
       "  'articleids': [{'idtype': 'pubmed', 'idtypen': 1, 'value': '27708327'},\n",
       "   {'idtype': 'pii', 'idtypen': 4, 'value': '538127a'},\n",
       "   {'idtype': 'doi', 'idtypen': 3, 'value': '10.1038/538127a'},\n",
       "   {'idtype': 'rid', 'idtypen': 8, 'value': '27708327'},\n",
       "   {'idtype': 'eid', 'idtypen': 8, 'value': '27708327'}],\n",
       "  'history': [{'pubstatus': 'entrez', 'date': '2016/10/07 06:00'},\n",
       "   {'pubstatus': 'pubmed', 'date': '2016/10/07 06:00'},\n",
       "   {'pubstatus': 'medline', 'date': '2016/11/03 06:00'}],\n",
       "  'references': [{'refsource': 'Nature. 2016 Oct 31;539(7627):126',\n",
       "    'reftype': 'Erratum in',\n",
       "    'pmid': 27808210,\n",
       "    'note': ''}],\n",
       "  'attributes': [],\n",
       "  'pmcrefcount': 11,\n",
       "  'fulljournalname': 'Nature',\n",
       "  'elocationid': 'doi: 10.1038/538127a',\n",
       "  'doctype': 'citation',\n",
       "  'srccontriblist': [],\n",
       "  'booktitle': '',\n",
       "  'medium': '',\n",
       "  'edition': '',\n",
       "  'publisherlocation': '',\n",
       "  'publishername': '',\n",
       "  'srcdate': '',\n",
       "  'reportnumber': '',\n",
       "  'availablefromurl': '',\n",
       "  'locationlabel': '',\n",
       "  'doccontriblist': [],\n",
       "  'docdate': '',\n",
       "  'bookname': '',\n",
       "  'chapter': '',\n",
       "  'sortpubdate': '2016/10/06 00:00',\n",
       "  'sortfirstauthor': 'Perkel J',\n",
       "  'vernaculartitle': ''}}"
      ]
     },
     "execution_count": 178,
     "metadata": {},
     "output_type": "execute_result"
    }
   ],
   "source": [
    "doi_data[\"result\"]"
   ]
  },
  {
   "cell_type": "code",
   "execution_count": 181,
   "metadata": {},
   "outputs": [
    {
     "data": {
      "text/plain": [
       "'Democratic databases: science on GitHub.'"
      ]
     },
     "execution_count": 181,
     "metadata": {},
     "output_type": "execute_result"
    }
   ],
   "source": [
    "doi_data[\"result\"][\"27708327\"][\"title\"]"
   ]
  },
  {
   "cell_type": "code",
   "execution_count": 182,
   "metadata": {},
   "outputs": [
    {
     "data": {
      "text/plain": [
       "'2016 Oct 6'"
      ]
     },
     "execution_count": 182,
     "metadata": {},
     "output_type": "execute_result"
    }
   ],
   "source": [
    "doi_data[\"result\"][\"27708327\"][\"pubdate\"]"
   ]
  },
  {
   "cell_type": "code",
   "execution_count": 183,
   "metadata": {},
   "outputs": [],
   "source": [
    "base_url = \"https://eutils.ncbi.nlm.nih.gov/entrez/eutils/esummary.fcgi?db=pubmed&retmode=json&id=\"\n",
    "doi = \"31452104\"\n",
    "full_url = base_url + doi"
   ]
  },
  {
   "cell_type": "code",
   "execution_count": 184,
   "metadata": {},
   "outputs": [],
   "source": [
    "doi_json_data = urllib.request.urlopen(full_url).read()"
   ]
  },
  {
   "cell_type": "code",
   "execution_count": 185,
   "metadata": {},
   "outputs": [
    {
     "name": "stdout",
     "output_type": "stream",
     "text": [
      "b'{\"header\":{\"type\":\"esummary\",\"version\":\"0.3\"},\"result\":{\"uids\":[\"31452104\"],\"31452104\":{\"uid\":\"31452104\",\"pubdate\":\"2019\",\"epubdate\":\"\",\"source\":\"Methods Mol Biol\",\"authors\":[{\"name\":\"Bitencourt-Ferreira G\",\"authtype\":\"Author\",\"clusterid\":\"\"},{\"name\":\"de Azevedo WF Jr\",\"authtype\":\"Author\",\"clusterid\":\"\"}],\"lastauthor\":\"de Azevedo WF Jr\",\"title\":\"Molegro Virtual Docker for Docking.\",\"sorttitle\":\"molegro virtual docker for docking\",\"volume\":\"2053\",\"issue\":\"\",\"pages\":\"149-167\",\"lang\":[\"eng\"],\"nlmuniqueid\":\"9214969\",\"issn\":\"1064-3745\",\"essn\":\"1940-6029\",\"pubtype\":[\"Journal Article\"],\"recordstatus\":\"PubMed - indexed for MEDLINE\",\"pubstatus\":\"4\",\"articleids\":[{\"idtype\":\"pubmed\",\"idtypen\":1,\"value\":\"31452104\"},{\"idtype\":\"doi\",\"idtypen\":3,\"value\":\"10.1007/978-1-4939-9752-7_10\"},{\"idtype\":\"rid\",\"idtypen\":8,\"value\":\"31452104\"},{\"idtype\":\"eid\",\"idtypen\":8,\"value\":\"31452104\"}],\"history\":[{\"pubstatus\":\"entrez\",\"date\":\"2019/08/28 06:00\"},{\"pubstatus\":\"pubmed\",\"date\":\"2019/08/28 06:00\"},{\"pubstatus\":\"medline\",\"date\":\"2020/06/20 06:00\"}],\"references\":[],\"attributes\":[\"Has Abstract\"],\"pmcrefcount\":4,\"fulljournalname\":\"Methods in molecular biology (Clifton, N.J.)\",\"elocationid\":\"doi: 10.1007/978-1-4939-9752-7_10\",\"doctype\":\"citation\",\"srccontriblist\":[],\"booktitle\":\"\",\"medium\":\"\",\"edition\":\"\",\"publisherlocation\":\"\",\"publishername\":\"\",\"srcdate\":\"\",\"reportnumber\":\"\",\"availablefromurl\":\"\",\"locationlabel\":\"\",\"doccontriblist\":[],\"docdate\":\"\",\"bookname\":\"\",\"chapter\":\"\",\"sortpubdate\":\"2019/01/01 00:00\",\"sortfirstauthor\":\"Bitencourt-Ferreira G\",\"vernaculartitle\":\"\"}}}\\n'\n"
     ]
    }
   ],
   "source": [
    "print(doi_json_data)"
   ]
  },
  {
   "cell_type": "code",
   "execution_count": 186,
   "metadata": {},
   "outputs": [],
   "source": [
    "base_url = \"https://eutils.ncbi.nlm.nih.gov/entrez/eutils/esummary.fcgi?db=pubmed&retmode=json&id=\"\n",
    "doi = \"31437182\"\n",
    "full_url = base_url + doi"
   ]
  },
  {
   "cell_type": "code",
   "execution_count": 187,
   "metadata": {},
   "outputs": [],
   "source": [
    "doi_json_data = urllib.request.urlopen(full_url).read()"
   ]
  },
  {
   "cell_type": "code",
   "execution_count": 188,
   "metadata": {},
   "outputs": [
    {
     "name": "stdout",
     "output_type": "stream",
     "text": [
      "b'{\"header\":{\"type\":\"esummary\",\"version\":\"0.3\"},\"result\":{\"uids\":[\"31437182\"],\"31437182\":{\"uid\":\"31437182\",\"pubdate\":\"2019\",\"epubdate\":\"2019 Aug 22\",\"source\":\"PLoS One\",\"authors\":[{\"name\":\"Balaban M\",\"authtype\":\"Author\",\"clusterid\":\"\"},{\"name\":\"Moshiri N\",\"authtype\":\"Author\",\"clusterid\":\"\"},{\"name\":\"Mai U\",\"authtype\":\"Author\",\"clusterid\":\"\"},{\"name\":\"Jia X\",\"authtype\":\"Author\",\"clusterid\":\"\"},{\"name\":\"Mirarab S\",\"authtype\":\"Author\",\"clusterid\":\"\"}],\"lastauthor\":\"Mirarab S\",\"title\":\"TreeCluster: Clustering biological sequences using phylogenetic trees.\",\"sorttitle\":\"treecluster clustering biological sequences using phylogenetic trees\",\"volume\":\"14\",\"issue\":\"8\",\"pages\":\"e0221068\",\"lang\":[\"eng\"],\"nlmuniqueid\":\"101285081\",\"issn\":\"\",\"essn\":\"1932-6203\",\"pubtype\":[\"Journal Article\"],\"recordstatus\":\"PubMed - indexed for MEDLINE\",\"pubstatus\":\"258\",\"articleids\":[{\"idtype\":\"pubmed\",\"idtypen\":1,\"value\":\"31437182\"},{\"idtype\":\"doi\",\"idtypen\":3,\"value\":\"10.1371/journal.pone.0221068\"},{\"idtype\":\"pii\",\"idtypen\":4,\"value\":\"PONE-D-19-14871\"},{\"idtype\":\"pmc\",\"idtypen\":8,\"value\":\"PMC6705769\"},{\"idtype\":\"rid\",\"idtypen\":8,\"value\":\"31437182\"},{\"idtype\":\"eid\",\"idtypen\":8,\"value\":\"31437182\"},{\"idtype\":\"pmcid\",\"idtypen\":5,\"value\":\"pmc-id: PMC6705769;\"}],\"history\":[{\"pubstatus\":\"received\",\"date\":\"2019/05/26 00:00\"},{\"pubstatus\":\"accepted\",\"date\":\"2019/07/26 00:00\"},{\"pubstatus\":\"entrez\",\"date\":\"2019/08/23 06:00\"},{\"pubstatus\":\"pubmed\",\"date\":\"2019/08/23 06:00\"},{\"pubstatus\":\"medline\",\"date\":\"2020/03/04 06:00\"}],\"references\":[],\"attributes\":[\"Has Abstract\"],\"pmcrefcount\":8,\"fulljournalname\":\"PloS one\",\"elocationid\":\"doi: 10.1371/journal.pone.0221068\",\"doctype\":\"citation\",\"srccontriblist\":[],\"booktitle\":\"\",\"medium\":\"\",\"edition\":\"\",\"publisherlocation\":\"\",\"publishername\":\"\",\"srcdate\":\"\",\"reportnumber\":\"\",\"availablefromurl\":\"\",\"locationlabel\":\"\",\"doccontriblist\":[],\"docdate\":\"\",\"bookname\":\"\",\"chapter\":\"\",\"sortpubdate\":\"2019/08/22 00:00\",\"sortfirstauthor\":\"Balaban M\",\"vernaculartitle\":\"\"}}}\\n'\n"
     ]
    }
   ],
   "source": [
    "print(doi_json_data)"
   ]
  },
  {
   "cell_type": "code",
   "execution_count": 189,
   "metadata": {},
   "outputs": [],
   "source": [
    "base_url = \"https://eutils.ncbi.nlm.nih.gov/entrez/eutils/esummary.fcgi?db=pubmed&retmode=json&id=\"\n",
    "doi = \"31455877\"\n",
    "full_url = base_url + doi"
   ]
  },
  {
   "cell_type": "code",
   "execution_count": 190,
   "metadata": {},
   "outputs": [],
   "source": [
    "doi_json_data = urllib.request.urlopen(full_url).read()"
   ]
  },
  {
   "cell_type": "code",
   "execution_count": 191,
   "metadata": {},
   "outputs": [
    {
     "name": "stdout",
     "output_type": "stream",
     "text": [
      "b'{\"header\":{\"type\":\"esummary\",\"version\":\"0.3\"},\"result\":{\"uids\":[\"31455877\"],\"31455877\":{\"uid\":\"31455877\",\"pubdate\":\"2019 Aug 27\",\"epubdate\":\"2019 Aug 27\",\"source\":\"Sci Rep\",\"authors\":[{\"name\":\"Booeshaghi AS\",\"authtype\":\"Author\",\"clusterid\":\"\"},{\"name\":\"Beltrame EDV\",\"authtype\":\"Author\",\"clusterid\":\"\"},{\"name\":\"Bannon D\",\"authtype\":\"Author\",\"clusterid\":\"\"},{\"name\":\"Gehring J\",\"authtype\":\"Author\",\"clusterid\":\"\"},{\"name\":\"Pachter L\",\"authtype\":\"Author\",\"clusterid\":\"\"}],\"lastauthor\":\"Pachter L\",\"title\":\"Principles of open source bioinstrumentation applied to the poseidon syringe pump system.\",\"sorttitle\":\"principles of open source bioinstrumentation applied to the poseidon syringe pump system\",\"volume\":\"9\",\"issue\":\"1\",\"pages\":\"12385\",\"lang\":[\"eng\"],\"nlmuniqueid\":\"101563288\",\"issn\":\"\",\"essn\":\"2045-2322\",\"pubtype\":[\"Journal Article\"],\"recordstatus\":\"PubMed\",\"pubstatus\":\"3\",\"articleids\":[{\"idtype\":\"pubmed\",\"idtypen\":1,\"value\":\"31455877\"},{\"idtype\":\"doi\",\"idtypen\":3,\"value\":\"10.1038/s41598-019-48815-9\"},{\"idtype\":\"pii\",\"idtypen\":4,\"value\":\"10.1038/s41598-019-48815-9\"},{\"idtype\":\"pmc\",\"idtypen\":8,\"value\":\"PMC6711986\"},{\"idtype\":\"rid\",\"idtypen\":8,\"value\":\"31455877\"},{\"idtype\":\"eid\",\"idtypen\":8,\"value\":\"31455877\"},{\"idtype\":\"pmcid\",\"idtypen\":5,\"value\":\"pmc-id: PMC6711986;\"}],\"history\":[{\"pubstatus\":\"received\",\"date\":\"2019/02/07 00:00\"},{\"pubstatus\":\"accepted\",\"date\":\"2019/08/08 00:00\"},{\"pubstatus\":\"entrez\",\"date\":\"2019/08/29 06:00\"},{\"pubstatus\":\"pubmed\",\"date\":\"2019/08/29 06:00\"},{\"pubstatus\":\"medline\",\"date\":\"2019/08/29 06:01\"}],\"references\":[],\"attributes\":[\"Has Abstract\"],\"pmcrefcount\":4,\"fulljournalname\":\"Scientific reports\",\"elocationid\":\"doi: 10.1038/s41598-019-48815-9\",\"doctype\":\"citation\",\"srccontriblist\":[],\"booktitle\":\"\",\"medium\":\"\",\"edition\":\"\",\"publisherlocation\":\"\",\"publishername\":\"\",\"srcdate\":\"\",\"reportnumber\":\"\",\"availablefromurl\":\"\",\"locationlabel\":\"\",\"doccontriblist\":[],\"docdate\":\"\",\"bookname\":\"\",\"chapter\":\"\",\"sortpubdate\":\"2019/08/27 00:00\",\"sortfirstauthor\":\"Booeshaghi AS\",\"vernaculartitle\":\"\"}}}\\n'\n"
     ]
    }
   ],
   "source": [
    "print(doi_json_data)"
   ]
  },
  {
   "cell_type": "code",
   "execution_count": 192,
   "metadata": {},
   "outputs": [],
   "source": [
    "base_url = \"https://eutils.ncbi.nlm.nih.gov/entrez/eutils/esummary.fcgi?db=pubmed&retmode=json&id=\"\n",
    "doi = \"31535994\"\n",
    "full_url = base_url + doi"
   ]
  },
  {
   "cell_type": "code",
   "execution_count": 193,
   "metadata": {},
   "outputs": [],
   "source": [
    "doi_json_data = urllib.request.urlopen(full_url).read()"
   ]
  },
  {
   "cell_type": "code",
   "execution_count": 194,
   "metadata": {},
   "outputs": [
    {
     "name": "stdout",
     "output_type": "stream",
     "text": [
      "b'{\"header\":{\"type\":\"esummary\",\"version\":\"0.3\"},\"result\":{\"uids\":[\"31535994\"],\"31535994\":{\"uid\":\"31535994\",\"pubdate\":\"2019 Sep 16\",\"epubdate\":\"2019 Sep 16\",\"source\":\"IEEE Trans Image Process\",\"authors\":[{\"name\":\"Liu C\",\"authtype\":\"Author\",\"clusterid\":\"\"},{\"name\":\"Ding W\",\"authtype\":\"Author\",\"clusterid\":\"\"},{\"name\":\"Yang J\",\"authtype\":\"Author\",\"clusterid\":\"\"},{\"name\":\"Murino V\",\"authtype\":\"Author\",\"clusterid\":\"\"},{\"name\":\"Zhang B\",\"authtype\":\"Author\",\"clusterid\":\"\"},{\"name\":\"Han J\",\"authtype\":\"Author\",\"clusterid\":\"\"},{\"name\":\"Guo G\",\"authtype\":\"Author\",\"clusterid\":\"\"}],\"lastauthor\":\"Guo G\",\"title\":\"Aggregation Signature for Small Object Tracking.\",\"sorttitle\":\"aggregation signature for small object tracking\",\"volume\":\"\",\"issue\":\"\",\"pages\":\"\",\"lang\":[\"eng\"],\"nlmuniqueid\":\"9886191\",\"issn\":\"1057-7149\",\"essn\":\"1941-0042\",\"pubtype\":[\"Journal Article\"],\"recordstatus\":\"PubMed - as supplied by publisher\",\"pubstatus\":\"10\",\"articleids\":[{\"idtype\":\"pubmed\",\"idtypen\":1,\"value\":\"31535994\"},{\"idtype\":\"doi\",\"idtypen\":3,\"value\":\"10.1109/TIP.2019.2940477\"},{\"idtype\":\"rid\",\"idtypen\":8,\"value\":\"31535994\"},{\"idtype\":\"eid\",\"idtypen\":8,\"value\":\"31535994\"}],\"history\":[{\"pubstatus\":\"entrez\",\"date\":\"2019/09/20 06:00\"},{\"pubstatus\":\"pubmed\",\"date\":\"2019/09/20 06:00\"},{\"pubstatus\":\"medline\",\"date\":\"2019/09/20 06:00\"}],\"references\":[],\"attributes\":[\"Has Abstract\"],\"pmcrefcount\":\"\",\"fulljournalname\":\"IEEE transactions on image processing : a publication of the IEEE Signal Processing Society\",\"elocationid\":\"doi: 10.1109/TIP.2019.2940477\",\"doctype\":\"citation\",\"srccontriblist\":[],\"booktitle\":\"\",\"medium\":\"\",\"edition\":\"\",\"publisherlocation\":\"\",\"publishername\":\"\",\"srcdate\":\"\",\"reportnumber\":\"\",\"availablefromurl\":\"\",\"locationlabel\":\"\",\"doccontriblist\":[],\"docdate\":\"\",\"bookname\":\"\",\"chapter\":\"\",\"sortpubdate\":\"2019/09/16 00:00\",\"sortfirstauthor\":\"Liu C\",\"vernaculartitle\":\"\"}}}\\n'\n"
     ]
    }
   ],
   "source": [
    "print(doi_json_data)"
   ]
  },
  {
   "cell_type": "code",
   "execution_count": 195,
   "metadata": {},
   "outputs": [],
   "source": [
    "dois = [\"27708327\",\n",
    "        \"31452104\",\n",
    "        \"31437182\",\n",
    "        \"31455877\",\n",
    "        \"31535994\"]"
   ]
  },
  {
   "cell_type": "code",
   "execution_count": 198,
   "metadata": {},
   "outputs": [
    {
     "data": {
      "text/plain": [
       "\"['27708327', '31452104', '31437182', '31455877', '31535994']\""
      ]
     },
     "execution_count": 198,
     "metadata": {},
     "output_type": "execute_result"
    }
   ],
   "source": [
    "str(dois)"
   ]
  },
  {
   "cell_type": "code",
   "execution_count": 200,
   "metadata": {},
   "outputs": [
    {
     "name": "stdout",
     "output_type": "stream",
     "text": [
      "Democratic databases: science on GitHub.2016 Oct 6\n",
      "Molegro Virtual Docker for Docking.2019\n",
      "TreeCluster: Clustering biological sequences using phylogenetic trees.2019\n",
      "Principles of open source bioinstrumentation applied to the poseidon syringe pump system.2019 Aug 27\n",
      "Aggregation Signature for Small Object Tracking.2019 Sep 16\n"
     ]
    }
   ],
   "source": [
    "for doi in dois:\n",
    "    full_url = base_url + doi\n",
    "    doi_json_data = urllib.request.urlopen(full_url).read()\n",
    "    doi_data = json.loads(doi_json_data)\n",
    "    print(doi_data[\"result\"][str(doi)][\"title\"] + doi_data[\"result\"][str(doi)][\"pubdate\"])"
   ]
  },
  {
   "cell_type": "code",
   "execution_count": 3,
   "metadata": {},
   "outputs": [],
   "source": [
    "title = 'Democratic databases: science on GitHub.'"
   ]
  },
  {
   "cell_type": "code",
   "execution_count": 4,
   "metadata": {},
   "outputs": [
    {
     "name": "stdout",
     "output_type": "stream",
     "text": [
      "Der Titel ist Democratic databases: science on GitHub.\n"
     ]
    }
   ],
   "source": [
    "print(f'Der Titel ist {title}')"
   ]
  },
  {
   "cell_type": "code",
   "execution_count": null,
   "metadata": {},
   "outputs": [],
   "source": []
  }
 ],
 "metadata": {
  "kernelspec": {
   "display_name": "Python 3",
   "language": "python",
   "name": "python3"
  },
  "language_info": {
   "codemirror_mode": {
    "name": "ipython",
    "version": 3
   },
   "file_extension": ".py",
   "mimetype": "text/x-python",
   "name": "python",
   "nbconvert_exporter": "python",
   "pygments_lexer": "ipython3",
   "version": "3.8.5"
  }
 },
 "nbformat": 4,
 "nbformat_minor": 4
}
